{
 "cells": [
  {
   "cell_type": "markdown",
   "id": "54673188-f2b5-4a3f-9194-b2766a66592b",
   "metadata": {},
   "source": [
    "### Excercise 1.1"
   ]
  },
  {
   "cell_type": "markdown",
   "id": "99a58813-346b-469c-ab9c-34dbec5c17d9",
   "metadata": {},
   "source": []
  },
  {
   "cell_type": "code",
   "execution_count": null,
   "id": "de505782-62a2-4ed6-a7c8-09d8aad861b3",
   "metadata": {},
   "outputs": [],
   "source": [
    "### Excercise "
   ]
  }
 ],
 "metadata": {
  "kernelspec": {
   "display_name": "Python 3 (ipykernel)",
   "language": "python",
   "name": "python3"
  },
  "language_info": {
   "codemirror_mode": {
    "name": "ipython",
    "version": 3
   },
   "file_extension": ".py",
   "mimetype": "text/x-python",
   "name": "python",
   "nbconvert_exporter": "python",
   "pygments_lexer": "ipython3",
   "version": "3.12.5"
  }
 },
 "nbformat": 4,
 "nbformat_minor": 5
}
